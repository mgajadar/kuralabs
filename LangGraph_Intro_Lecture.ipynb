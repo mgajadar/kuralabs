{
  "cells": [
    {
      "cell_type": "markdown",
      "metadata": {
        "id": "header"
      },
      "source": [
        "# Day 3: LangGraph & Advanced Agent Patterns\n",
        "\n",
        "## Building Multi-Agent Systems with Graph-Based Workflows\n",
        "\n",
        "Welcome to Day 3! Today we'll explore **LangGraph**, a powerful framework for building sophisticated, stateful agent workflows that support loops, complex branching, and multi-agent coordination.\n",
        "\n",
        "---\n",
        "\n",
        "## Learning Objectives\n",
        "\n",
        "By the end of Day 3, you will be able to:\n",
        "\n",
        "1. **Design and implement graph-based agent workflows**: Structure agent logic as graphs of nodes and edges rather than linear chains\n",
        "2. **Create multi-agent coordination systems**: Build agents with specialized sub-agents that communicate and hand off tasks\n",
        "3. **Implement human-in-the-loop checkpoints**: Insert approval gates where human input is required\n",
        "4. **Build complex workflows**: Create parallel processing, conditional routing, and self-healing systems\n",
        "\n",
        "---\n",
        "\n",
        "## Prerequisites\n",
        "\n",
        "- Completion of Day 2 (LangChain fundamentals)\n",
        "- Understanding of agent concepts and tool usage\n",
        "- Familiarity with async programming (helpful but not required)\n",
        "\n",
        "---\n",
        "\n",
        "## What We'll Build\n",
        "\n",
        "- **Research Assistant**: Multi-agent system with research, writing, and quality control\n",
        "- **Self-Healing Workflow**: Agent that automatically recovers from errors\n",
        "- **Human-Supervised Pipeline**: Workflow with approval checkpoints\n",
        "- **Parallel Processing System**: Concurrent data gathering and analysis"
      ]
    },
    {
      "cell_type": "markdown",
      "metadata": {
        "id": "setup"
      },
      "source": [
        "## Setup"
      ]
    },
    {
      "cell_type": "code",
      "execution_count": 1,
      "metadata": {
        "id": "install"
      },
      "outputs": [],
      "source": [
        "%%capture --no-stderr\n",
        "%pip install langgraph langchain langchain-openai langchain-community python-dotenv tavily-python"
      ]
    },
    {
      "cell_type": "code",
      "execution_count": 2,
      "metadata": {
        "id": "api_keys",
        "colab": {
          "base_uri": "https://localhost:8080/"
        },
        "outputId": "134ccdf3-60b3-41da-8e3d-86cf4223674a"
      },
      "outputs": [
        {
          "output_type": "stream",
          "name": "stdout",
          "text": [
            "Enter your OPENAI_API_KEY: ··········\n",
            "Enter your TAVILY_API_KEY (optional for web search): ··········\n",
            "API keys configured\n"
          ]
        }
      ],
      "source": [
        "# API Key Setup\n",
        "import os\n",
        "from getpass import getpass\n",
        "\n",
        "keys = [\"OPENAI_API_KEY\", \"TAVILY_API_KEY\"]\n",
        "for key in keys:\n",
        "    if key not in os.environ:\n",
        "        if key == \"TAVILY_API_KEY\":\n",
        "            value = getpass(f\"Enter your {key} (optional for web search): \")\n",
        "            if value:\n",
        "                os.environ[key] = value\n",
        "        else:\n",
        "            os.environ[key] = getpass(f\"Enter your {key}: \")\n",
        "\n",
        "print(\"API keys configured\")"
      ]
    },
    {
      "cell_type": "code",
      "execution_count": 3,
      "metadata": {
        "id": "imports",
        "colab": {
          "base_uri": "https://localhost:8080/"
        },
        "outputId": "a5048565-8e76-4f1a-965d-f6e3de14b2c4"
      },
      "outputs": [
        {
          "output_type": "stream",
          "name": "stdout",
          "text": [
            "Imports successful!\n"
          ]
        }
      ],
      "source": [
        "# Core imports\n",
        "import os\n",
        "import json\n",
        "import time\n",
        "import asyncio\n",
        "from datetime import datetime\n",
        "from typing import TypedDict, List, Dict, Any, Optional, Annotated\n",
        "from getpass import getpass\n",
        "\n",
        "# LangGraph and LangChain\n",
        "from langgraph.graph import StateGraph, END\n",
        "from langgraph.graph import add_messages\n",
        "from langgraph.checkpoint.memory import MemorySaver\n",
        "from langgraph.prebuilt import create_react_agent\n",
        "\n",
        "from langchain.chat_models import init_chat_model\n",
        "from langchain_openai import ChatOpenAI\n",
        "from langchain_core.messages import HumanMessage, AIMessage, SystemMessage, BaseMessage\n",
        "from langchain_core.tools import tool\n",
        "from langchain_community.tools.tavily_search import TavilySearchResults\n",
        "from langchain.globals import set_debug, set_verbose\n",
        "\n",
        "print(\"Imports successful!\")"
      ]
    },
    {
      "cell_type": "markdown",
      "metadata": {
        "id": "langgraph_intro"
      },
      "source": [
        "## LangGraph vs LangChain: Key Differences\n",
        "\n",
        "Building on Day 2's LangChain foundation, LangGraph extends these capabilities:\n",
        "\n",
        "| Feature | LangChain | LangGraph |\n",
        "|---------|-----------|----------|\n",
        "| **Structure** | Linear chains | Graph workflows |\n",
        "| **Loops** | Not supported | Full cycle support |\n",
        "| **State** | Limited | Rich, persistent |\n",
        "| **Routing** | Basic | Conditional logic |\n",
        "| **Error Handling** | Manual | Self-healing |\n",
        "| **Human Oversight** | Custom | Built-in checkpoints |\n",
        "\n",
        "### Why LangGraph?\n",
        "\n",
        "- **Cyclical workflows**: Agents can loop, retry, and self-correct\n",
        "- **Dynamic routing**: Decisions based on runtime state\n",
        "- **Persistent state**: Context maintained across operations\n",
        "- **Multi-agent systems**: Native coordination support\n",
        "- **Human-in-the-loop**: Built-in approval gates"
      ]
    },
    {
      "cell_type": "markdown",
      "metadata": {
        "id": "model_init"
      },
      "source": [
        "## Model Initialization for LangGraph\n",
        "\n",
        "Similar to Day 2, we can initialize different models for our agents:"
      ]
    },
    {
      "cell_type": "code",
      "execution_count": 4,
      "metadata": {
        "id": "models",
        "colab": {
          "base_uri": "https://localhost:8080/"
        },
        "outputId": "dcca6d08-4b63-4253-be8e-c4a9982239e7"
      },
      "outputs": [
        {
          "output_type": "stream",
          "name": "stdout",
          "text": [
            "Model response: LangGraph is a framework or tool designed to represent, analyze, or process language-related data us...\n",
            "Token usage: {'input_tokens': 12, 'output_tokens': 197, 'total_tokens': 209, 'input_token_details': {'audio': 0, 'cache_read': 0}, 'output_token_details': {'audio': 0, 'reasoning': 0}}\n"
          ]
        }
      ],
      "source": [
        "# Initialize models like in Day 2\n",
        "openai_llm = init_chat_model(model=\"gpt-4.1-mini\", model_provider=\"openai\")\n",
        "\n",
        "# Test basic functionality\n",
        "response = openai_llm.invoke(\"What is LangGraph?\")\n",
        "print(f\"Model response: {response.content[:100]}...\")\n",
        "print(f\"Token usage: {response.usage_metadata}\")"
      ]
    },
    {
      "cell_type": "markdown",
      "metadata": {
        "id": "debugging"
      },
      "source": [
        "## Debugging LangGraph Workflows\n",
        "\n",
        "LangGraph workflows can be complex, so proper debugging is essential:"
      ]
    },
    {
      "cell_type": "code",
      "execution_count": 5,
      "metadata": {
        "id": "debug_setup",
        "colab": {
          "base_uri": "https://localhost:8080/"
        },
        "outputId": "917581d2-56ff-4e3d-bf19-12201c9ec0be"
      },
      "outputs": [
        {
          "output_type": "stream",
          "name": "stdout",
          "text": [
            "\u001b[32;1m\u001b[1;3m[llm/start]\u001b[0m \u001b[1m[llm:ChatOpenAI] Entering LLM run with input:\n",
            "\u001b[0m{\n",
            "  \"prompts\": [\n",
            "    \"Human: Hello LangGraph\"\n",
            "  ]\n",
            "}\n",
            "\u001b[36;1m\u001b[1;3m[llm/end]\u001b[0m \u001b[1m[llm:ChatOpenAI] [459ms] Exiting LLM run with output:\n",
            "\u001b[0m{\n",
            "  \"generations\": [\n",
            "    [\n",
            "      {\n",
            "        \"text\": \"Hello! How can I assist you with LangGraph today?\",\n",
            "        \"generation_info\": {\n",
            "          \"finish_reason\": \"stop\",\n",
            "          \"logprobs\": null\n",
            "        },\n",
            "        \"type\": \"ChatGeneration\",\n",
            "        \"message\": {\n",
            "          \"lc\": 1,\n",
            "          \"type\": \"constructor\",\n",
            "          \"id\": [\n",
            "            \"langchain\",\n",
            "            \"schema\",\n",
            "            \"messages\",\n",
            "            \"AIMessage\"\n",
            "          ],\n",
            "          \"kwargs\": {\n",
            "            \"content\": \"Hello! How can I assist you with LangGraph today?\",\n",
            "            \"additional_kwargs\": {\n",
            "              \"refusal\": null\n",
            "            },\n",
            "            \"response_metadata\": {\n",
            "              \"token_usage\": {\n",
            "                \"completion_tokens\": 12,\n",
            "                \"prompt_tokens\": 10,\n",
            "                \"total_tokens\": 22,\n",
            "                \"completion_tokens_details\": {\n",
            "                  \"accepted_prediction_tokens\": 0,\n",
            "                  \"audio_tokens\": 0,\n",
            "                  \"reasoning_tokens\": 0,\n",
            "                  \"rejected_prediction_tokens\": 0\n",
            "                },\n",
            "                \"prompt_tokens_details\": {\n",
            "                  \"audio_tokens\": 0,\n",
            "                  \"cached_tokens\": 0\n",
            "                }\n",
            "              },\n",
            "              \"model_name\": \"gpt-4.1-mini-2025-04-14\",\n",
            "              \"system_fingerprint\": \"fp_3f58d112f7\",\n",
            "              \"id\": \"chatcmpl-CE1VFczSmDGPMcyBskV7SLGrWGfX8\",\n",
            "              \"service_tier\": \"default\",\n",
            "              \"finish_reason\": \"stop\",\n",
            "              \"logprobs\": null\n",
            "            },\n",
            "            \"type\": \"ai\",\n",
            "            \"id\": \"run--18e33790-11d8-42ec-ac54-dc72ef9565c7-0\",\n",
            "            \"usage_metadata\": {\n",
            "              \"input_tokens\": 10,\n",
            "              \"output_tokens\": 12,\n",
            "              \"total_tokens\": 22,\n",
            "              \"input_token_details\": {\n",
            "                \"audio\": 0,\n",
            "                \"cache_read\": 0\n",
            "              },\n",
            "              \"output_token_details\": {\n",
            "                \"audio\": 0,\n",
            "                \"reasoning\": 0\n",
            "              }\n",
            "            },\n",
            "            \"tool_calls\": [],\n",
            "            \"invalid_tool_calls\": []\n",
            "          }\n",
            "        }\n",
            "      }\n",
            "    ]\n",
            "  ],\n",
            "  \"llm_output\": {\n",
            "    \"token_usage\": {\n",
            "      \"completion_tokens\": 12,\n",
            "      \"prompt_tokens\": 10,\n",
            "      \"total_tokens\": 22,\n",
            "      \"completion_tokens_details\": {\n",
            "        \"accepted_prediction_tokens\": 0,\n",
            "        \"audio_tokens\": 0,\n",
            "        \"reasoning_tokens\": 0,\n",
            "        \"rejected_prediction_tokens\": 0\n",
            "      },\n",
            "      \"prompt_tokens_details\": {\n",
            "        \"audio_tokens\": 0,\n",
            "        \"cached_tokens\": 0\n",
            "      }\n",
            "    },\n",
            "    \"model_name\": \"gpt-4.1-mini-2025-04-14\",\n",
            "    \"system_fingerprint\": \"fp_3f58d112f7\",\n",
            "    \"id\": \"chatcmpl-CE1VFczSmDGPMcyBskV7SLGrWGfX8\",\n",
            "    \"service_tier\": \"default\"\n",
            "  },\n",
            "  \"run\": null,\n",
            "  \"type\": \"LLMResult\"\n",
            "}\n",
            "Response: Hello! How can I assist you with LangGraph today?\n",
            "Debugging disabled for cleaner output\n"
          ]
        }
      ],
      "source": [
        "# Enable debugging (from Day 2)\n",
        "set_debug(True)\n",
        "set_verbose(True)\n",
        "\n",
        "# Test with debugging enabled\n",
        "debug_response = openai_llm.invoke(\"Hello LangGraph\")\n",
        "print(f\"Response: {debug_response.content}\")\n",
        "\n",
        "# Disable for cleaner output\n",
        "set_debug(False)\n",
        "set_verbose(False)\n",
        "print(\"Debugging disabled for cleaner output\")"
      ]
    },
    {
      "cell_type": "markdown",
      "metadata": {
        "id": "core_concepts"
      },
      "source": [
        "## Core LangGraph Concepts\n",
        "\n",
        "### Nodes and Edges\n",
        "\n",
        "- **Nodes**: Units of computation (functions, LLM calls, tool usage)\n",
        "- **Edges**: Flow control between nodes\n",
        "- **Conditional Edges**: Dynamic routing based on state\n",
        "\n",
        "### State Management\n",
        "\n",
        "- **TypedDict**: Structure for workflow state\n",
        "- **Persistence**: Automatic state checkpointing\n",
        "- **Updates**: How nodes modify shared state"
      ]
    },
    {
      "cell_type": "code",
      "execution_count": 6,
      "metadata": {
        "id": "basic_state",
        "colab": {
          "base_uri": "https://localhost:8080/"
        },
        "outputId": "95f0499c-1d76-4acc-866c-40a2db4df7de"
      },
      "outputs": [
        {
          "output_type": "stream",
          "name": "stdout",
          "text": [
            "Basic workflow components defined\n"
          ]
        }
      ],
      "source": [
        "# Define a basic state structure\n",
        "class WorkflowState(TypedDict):\n",
        "    \"\"\"State that flows through our workflow\"\"\"\n",
        "    messages: Annotated[List[BaseMessage], add_messages]\n",
        "    current_step: str\n",
        "    step_count: int\n",
        "    results: Dict[str, Any]\n",
        "    error_count: int\n",
        "\n",
        "# Simple node function\n",
        "def greeting_node(state: WorkflowState) -> WorkflowState:\n",
        "    \"\"\"Process initial greeting\"\"\"\n",
        "    print(f\"Processing step: {state['current_step']}\")\n",
        "\n",
        "    response = openai_llm.invoke(\n",
        "        f\"Provide a brief, helpful response to: {state['messages'][-1].content}\"\n",
        "    )\n",
        "\n",
        "    return {\n",
        "        **state,\n",
        "        \"messages\": state[\"messages\"] + [response],\n",
        "        \"current_step\": \"greeting_complete\",\n",
        "        \"step_count\": state[\"step_count\"] + 1,\n",
        "        \"results\": {**state[\"results\"], \"greeting\": response.content}\n",
        "    }\n",
        "\n",
        "print(\"Basic workflow components defined\")"
      ]
    },
    {
      "cell_type": "code",
      "execution_count": 7,
      "metadata": {
        "id": "simple_workflow"
      },
      "outputs": [],
      "source": [
        "# Build a simple workflow\n",
        "def build_simple_workflow():\n",
        "    workflow = StateGraph(WorkflowState)\n",
        "\n",
        "    workflow.add_node(\"greeting\", greeting_node)\n",
        "    workflow.add_edge(\"greeting\", END)\n",
        "    workflow.set_entry_point(\"greeting\")\n",
        "\n",
        "    return workflow.compile()\n",
        "\n",
        "# Test the workflow\n",
        "simple_workflow = build_simple_workflow()"
      ]
    },
    {
      "cell_type": "markdown",
      "source": [
        "We can also visualize the workflow we just created:"
      ],
      "metadata": {
        "id": "KamxyP84NrUt"
      }
    },
    {
      "cell_type": "code",
      "source": [
        "from IPython.display import Image, display\n",
        "# Display as PNG\n",
        "png_graph = simple_workflow.get_graph().draw_mermaid_png()\n",
        "display(Image(png_graph))"
      ],
      "metadata": {
        "id": "_1C-BkwKNvOt",
        "colab": {
          "base_uri": "https://localhost:8080/",
          "height": 251
        },
        "outputId": "bbcb80d3-fe0e-4a4e-e73a-466be837e0e9"
      },
      "execution_count": 8,
      "outputs": [
        {
          "output_type": "display_data",
          "data": {
            "image/png": "[encoded data removed]",
            "text/plain": [
              "<IPython.core.display.Image object>"
            ]
          },
          "metadata": {}
        }
      ]
    },
    {
      "cell_type": "markdown",
      "source": [
        "Now let's test the workflow:"
      ],
      "metadata": {
        "id": "a5lRzvogfmeJ"
      }
    },
    {
      "cell_type": "code",
      "source": [
        "# Run with test input\n",
        "initial_state = {\n",
        "    \"messages\": [HumanMessage(content=\"Hello! I want to learn about LangGraph.\")],\n",
        "    \"current_step\": \"start\",\n",
        "    \"step_count\": 0,\n",
        "    \"results\": {},\n",
        "    \"error_count\": 0\n",
        "}\n",
        "\n",
        "result = simple_workflow.invoke(initial_state)\n",
        "print(f\"\\nWorkflow completed in {result['step_count']} steps\")\n",
        "print(f\"Final response: {result['results']['greeting']}...\")"
      ],
      "metadata": {
        "id": "ZsDEyVoSfof7",
        "colab": {
          "base_uri": "https://localhost:8080/"
        },
        "outputId": "6e8c6046-743c-4e8f-9459-3a50cfad4061"
      },
      "execution_count": 9,
      "outputs": [
        {
          "output_type": "stream",
          "name": "stdout",
          "text": [
            "Processing step: start\n",
            "\n",
            "Workflow completed in 1 steps\n",
            "Final response: Hello! LangGraph is a tool or framework designed to help with building and managing language-related graph data, often used in natural language processing or knowledge representation. If you'd like, I can provide more detailed information or resources to help you get started!...\n"
          ]
        }
      ]
    },
    {
      "cell_type": "markdown",
      "metadata": {
        "id": "tools_section"
      },
      "source": [
        "## Tools in LangGraph\n",
        "\n",
        "Building on Day 2's tool concepts, let's create practical tools for our agents:"
      ]
    },
    {
      "cell_type": "code",
      "execution_count": 10,
      "metadata": {
        "id": "tools",
        "colab": {
          "base_uri": "https://localhost:8080/"
        },
        "outputId": "b484f1df-06b0-4e06-e9ea-5fba54962ec9"
      },
      "outputs": [
        {
          "output_type": "stream",
          "name": "stdout",
          "text": [
            "Result: 132\n"
          ]
        },
        {
          "output_type": "stream",
          "name": "stderr",
          "text": [
            "/tmp/ipython-input-2650068758.py:23: LangChainDeprecationWarning: The class `TavilySearchResults` was deprecated in LangChain 0.3.25 and will be removed in 1.0. An updated version of the class exists in the :class:`~langchain-tavily package and should be used instead. To use it run `pip install -U :class:`~langchain-tavily` and import as `from :class:`~langchain_tavily import TavilySearch``.\n",
            "  search = TavilySearchResults(max_results=3)\n"
          ]
        },
        {
          "output_type": "stream",
          "name": "stdout",
          "text": [
            "Search results for 'LangGraph tutorial': [{'title'\n"
          ]
        }
      ],
      "source": [
        "# Define practical tools\n",
        "@tool\n",
        "def calculate(expression: str) -> str:\n",
        "    \"\"\"Safely evaluate mathematical expressions\"\"\"\n",
        "    try:\n",
        "        # Simple calculator for basic operations\n",
        "        allowed_chars = set('0123456789+-*/.()')\n",
        "        if all(c in allowed_chars or c.isspace() for c in expression):\n",
        "            result = eval(expression)\n",
        "            return f\"Result: {result}\"\n",
        "        else:\n",
        "            return \"Error: Invalid characters in expression\"\n",
        "    except Exception as e:\n",
        "        return f\"Error: {str(e)}\"\n",
        "\n",
        "@tool\n",
        "def search_web(query: str) -> str:\n",
        "    \"\"\"Search the web for information\"\"\"\n",
        "    if \"TAVILY_API_KEY\" not in os.environ:\n",
        "        return \"Web search unavailable (no Tavily API key)\"\n",
        "\n",
        "    try:\n",
        "        search = TavilySearchResults(max_results=3)\n",
        "        results = search.invoke(query)\n",
        "        if results:\n",
        "            return f\"Search results for '{query}': {results[:200]}...\"\n",
        "        return \"No results found\"\n",
        "    except Exception as e:\n",
        "        return f\"Search error: {str(e)}\"\n",
        "\n",
        "# Test tools\n",
        "print(calculate.invoke({\"expression\": \"15 * 8 + 12\"}))\n",
        "print(search_web.invoke({\"query\": \"LangGraph tutorial\"})[:50])"
      ]
    },
    {
      "cell_type": "markdown",
      "metadata": {
        "id": "react_agent"
      },
      "source": [
        "## ReAct Agent with LangGraph\n",
        "\n",
        "Let's build a ReAct agent using LangGraph's prebuilt components:"
      ]
    },
    {
      "cell_type": "code",
      "execution_count": 11,
      "metadata": {
        "id": "react_example",
        "colab": {
          "base_uri": "https://localhost:8080/"
        },
        "outputId": "fcf3fbb3-c89c-4bd5-dbb9-de44885872c1"
      },
      "outputs": [
        {
          "output_type": "stream",
          "name": "stdout",
          "text": [
            "Agent conversation:\n",
            "HumanMessage: What is 25 * 16, and can you find information about LangGraph?...\n",
            "Tool Result (None): ...\n",
            "ToolMessage: Result: 400...\n",
            "ToolMessage: Search results for 'LangGraph': [{'title': 'What is LangGraph? - IBM', 'url': 'https://www.ibm.com/t...\n",
            "AIMessage: The result of 25 * 16 is 400.\n",
            "\n",
            "Regarding LangGraph, it is an open-source AI agent framework created ...\n"
          ]
        }
      ],
      "source": [
        "# Create ReAct agent with tools\n",
        "tools = [calculate, search_web]\n",
        "react_agent = create_react_agent(model=openai_llm, tools=tools)\n",
        "\n",
        "# Test the agent\n",
        "result = react_agent.invoke({\n",
        "    \"messages\": [HumanMessage(content=\"What is 25 * 16, and can you find information about LangGraph?\")]\n",
        "})\n",
        "\n",
        "print(\"Agent conversation:\")\n",
        "for message in result[\"messages\"]:\n",
        "    if hasattr(message, 'content') and message.content:\n",
        "        print(f\"{type(message).__name__}: {message.content[:100]}...\")\n",
        "    elif hasattr(message, 'name'):\n",
        "        print(f\"Tool Result ({message.name}): {message.content[:50]}...\")"
      ]
    },
    {
      "cell_type": "markdown",
      "metadata": {
        "id": "streaming"
      },
      "source": [
        "## Streaming in LangGraph\n",
        "\n",
        "LangGraph supports streaming just like the models in Day 2:"
      ]
    },
    {
      "cell_type": "code",
      "execution_count": 12,
      "metadata": {
        "id": "streaming_example",
        "colab": {
          "base_uri": "https://localhost:8080/"
        },
        "outputId": "6b3586f6-de9a-4605-8dbe-5b47e121fc1e"
      },
      "outputs": [
        {
          "output_type": "stream",
          "name": "stdout",
          "text": [
            "Streaming agent execution:\n",
            "---\n",
            "Tool: Result: 180\n",
            "---\n",
            "Agent: The result of multiplying 12 by 15 is 180. This comes from the fact that multiplication is essentially repeated addition; adding 12 together 15 times (or vice versa) gives 180.\n",
            "---\n"
          ]
        }
      ],
      "source": [
        "# Streaming workflow execution\n",
        "print(\"Streaming agent execution:\")\n",
        "for chunk in react_agent.stream({\n",
        "    \"messages\": [HumanMessage(content=\"Calculate 12 * 15 and explain the result\")]\n",
        "}):\n",
        "    if 'agent' in chunk:\n",
        "        message = chunk['agent']['messages'][-1]\n",
        "        if hasattr(message, 'content') and message.content:\n",
        "            print(f\"Agent: {message.content}\")\n",
        "    elif 'tools' in chunk:\n",
        "        message = chunk['tools']['messages'][-1]\n",
        "        print(f\"Tool: {message.content}\")\n",
        "    print(\"---\")"
      ]
    },
    {
      "cell_type": "markdown",
      "metadata": {
        "id": "memory"
      },
      "source": [
        "## Memory and Checkpointing\n",
        "\n",
        "LangGraph's memory system builds on Day 2's concepts with automatic checkpointing:"
      ]
    },
    {
      "cell_type": "code",
      "execution_count": 14,
      "metadata": {
        "id": "memory_example",
        "colab": {
          "base_uri": "https://localhost:8080/"
        },
        "outputId": "51d1517c-9c11-4d8b-af96-000d59d4bf75"
      },
      "outputs": [
        {
          "output_type": "stream",
          "name": "stdout",
          "text": [
            "First result: Hi Alex! The result of 20 multiplied by 5 is 100. If you need any more calculations or assistance, feel free to ask!...\n",
            "Second result: Your name is Alex. The last calculation was 20 multiplied by 5, which equals 100. If you need anything else, just let me know!...\n",
            "\n",
            "Memory contains 6 messages\n"
          ]
        }
      ],
      "source": [
        "# Create agent with memory\n",
        "agent_with_memory = create_react_agent(\n",
        "    model=openai_llm,\n",
        "    tools=tools,\n",
        "    checkpointer=MemorySaver()\n",
        ")\n",
        "\n",
        "# Configuration for thread management\n",
        "config = {\"configurable\": {\"thread_id\": \"lesson_3_thread\"}}\n",
        "\n",
        "# First interaction\n",
        "result1 = agent_with_memory.invoke({\n",
        "    \"messages\": [HumanMessage(content=\"My name is Alex. Calculate 20 * 5 for me.\")]\n",
        "}, config)\n",
        "\n",
        "print(f\"First result: {result1['messages'][-1].content}...\")\n",
        "\n",
        "# Second interaction (should remember name)\n",
        "result2 = agent_with_memory.invoke({\n",
        "    \"messages\": [HumanMessage(content=\"What's my name, and what was the last calculation?\")]\n",
        "}, config)\n",
        "\n",
        "print(f\"Second result: {result2['messages'][-1].content}...\")\n",
        "\n",
        "# Check memory state\n",
        "memory_state = agent_with_memory.checkpointer.get(config)\n",
        "print(f\"\\nMemory contains {len(memory_state['channel_values']['messages'])} messages\")"
      ]
    },
    {
      "cell_type": "markdown",
      "metadata": {
        "id": "token_tracking"
      },
      "source": [
        "## Token Tracking in LangGraph\n",
        "\n",
        "Building on Day 2's cost analysis, let's track tokens across workflow execution:"
      ]
    },
    {
      "cell_type": "code",
      "execution_count": 15,
      "metadata": {
        "id": "HYIlzHzXUZPI",
        "colab": {
          "base_uri": "https://localhost:8080/"
        },
        "outputId": "88963abf-67ff-4105-8fc7-9b552d5730c4"
      },
      "outputs": [
        {
          "output_type": "stream",
          "name": "stdout",
          "text": [
            "Total tokens used: 105\n",
            "Total cost: $0.000054\n",
            "Response: Sure! LangGraph is a tool that helps connect and organize pieces of information in a way that’s easy to understand and use. Think of it like a map for ideas and concepts, where related things are linked together. This makes it easier to see how different ideas connect, find important information quickly, and build on knowledge step-by-step. It’s especially useful for handling complex topics by breaking them down into smaller, connected parts....\n"
          ]
        }
      ],
      "source": [
        "# Enhanced state with token tracking\n",
        "class TokenTrackingState(WorkflowState):\n",
        "    total_tokens: int\n",
        "    total_cost: float\n",
        "    token_details: List[Dict[str, Any]]\n",
        "\n",
        "def calculate_cost(usage_metadata: Dict[str, Any]) -> float:\n",
        "    \"\"\"Calculate cost based on token usage (GPT-4o-mini pricing)\"\"\"\n",
        "    input_cost = 0.15 / 1_000_000  # $0.15 per 1M input tokens\n",
        "    output_cost = 0.60 / 1_000_000  # $0.60 per 1M output tokens\n",
        "\n",
        "    input_tokens = usage_metadata.get('input_tokens', 0)\n",
        "    output_tokens = usage_metadata.get('output_tokens', 0)\n",
        "\n",
        "    return (input_tokens * input_cost) + (output_tokens * output_cost)\n",
        "\n",
        "def tracking_node(state: TokenTrackingState) -> TokenTrackingState:\n",
        "    \"\"\"Node that tracks token usage\"\"\"\n",
        "    response = openai_llm.invoke(\n",
        "        f\"Provide a helpful response to: {state['messages'][-1].content}\"\n",
        "    )\n",
        "\n",
        "    # Extract token usage\n",
        "    usage = response.usage_metadata\n",
        "    cost = calculate_cost(usage)\n",
        "\n",
        "    return {\n",
        "        **state,\n",
        "        \"messages\": state[\"messages\"] + [response],\n",
        "        \"current_step\": \"tracking_complete\",\n",
        "        \"step_count\": state[\"step_count\"] + 1,\n",
        "        \"total_tokens\": state[\"total_tokens\"] + usage.get('total_tokens', 0),\n",
        "        \"total_cost\": state[\"total_cost\"] + cost,\n",
        "        \"token_details\": state[\"token_details\"] + [{\n",
        "            \"step\": state[\"step_count\"] + 1,\n",
        "            \"tokens\": usage,\n",
        "            \"cost\": cost\n",
        "        }]\n",
        "    }\n",
        "\n",
        "# Test token tracking\n",
        "tracking_state = {\n",
        "    \"messages\": [HumanMessage(content=\"Explain LangGraph in simple terms\")],\n",
        "    \"current_step\": \"start\",\n",
        "    \"step_count\": 0,\n",
        "    \"results\": {},\n",
        "    \"error_count\": 0,\n",
        "    \"total_tokens\": 0,\n",
        "    \"total_cost\": 0.0,\n",
        "    \"token_details\": []\n",
        "}\n",
        "\n",
        "result = tracking_node(tracking_state)\n",
        "print(f\"Total tokens used: {result['total_tokens']}\")\n",
        "print(f\"Total cost: ${result['total_cost']:.6f}\")\n",
        "print(f\"Response: {result['messages'][-1].content}...\")"
      ]
    },
    {
      "cell_type": "markdown",
      "metadata": {
        "id": "async_patterns"
      },
      "source": [
        "## Async Patterns in LangGraph\n",
        "\n",
        "LangGraph supports async execution like the models in Day 2:"
      ]
    },
    {
      "cell_type": "code",
      "execution_count": 16,
      "metadata": {
        "id": "async_example",
        "colab": {
          "base_uri": "https://localhost:8080/"
        },
        "outputId": "454cd253-b7e4-48de-a0a0-600fbafe6f55"
      },
      "outputs": [
        {
          "output_type": "stream",
          "name": "stdout",
          "text": [
            "Async execution completed in 2.33 seconds\n",
            "Task 1: The result of 3 multiplied by 4 is 12....\n",
            "Task 2: The result of 4 multiplied by 5 is 20....\n",
            "Task 3: The result of 5 multiplied by 6 is 30....\n"
          ]
        }
      ],
      "source": [
        "# Async workflow execution\n",
        "async def async_workflow_test():\n",
        "    \"\"\"Test async workflow execution\"\"\"\n",
        "    start_time = time.time()\n",
        "\n",
        "    # Multiple async invocations\n",
        "    tasks = [\n",
        "        react_agent.ainvoke({\n",
        "            \"messages\": [HumanMessage(content=f\"Calculate {i} * {i+1}\")]\n",
        "        }) for i in range(3, 6)\n",
        "    ]\n",
        "\n",
        "    results = await asyncio.gather(*tasks)\n",
        "    end_time = time.time()\n",
        "\n",
        "    print(f\"Async execution completed in {end_time - start_time:.2f} seconds\")\n",
        "    for i, result in enumerate(results):\n",
        "        final_message = result['messages'][-1].content\n",
        "        print(f\"Task {i+1}: {final_message[:50]}...\")\n",
        "\n",
        "# Run async test\n",
        "await async_workflow_test()"
      ]
    },
    {
      "cell_type": "markdown",
      "metadata": {
        "id": "multi_agent"
      },
      "source": [
        "## Multi-Agent Coordination\n",
        "\n",
        "Now let's build a practical multi-agent system with real LLM interactions:"
      ]
    },
    {
      "cell_type": "code",
      "execution_count": 17,
      "metadata": {
        "id": "multi_agent_system",
        "colab": {
          "base_uri": "https://localhost:8080/"
        },
        "outputId": "7ccf0d45-cfbf-4dab-de80-0eb17541f72d"
      },
      "outputs": [
        {
          "output_type": "stream",
          "name": "stdout",
          "text": [
            "Multi-agent system defined\n"
          ]
        }
      ],
      "source": [
        "# Multi-agent state\n",
        "class MultiAgentState(TypedDict):\n",
        "    messages: Annotated[List[BaseMessage], add_messages]\n",
        "    task: str\n",
        "    research_results: str\n",
        "    draft_content: str\n",
        "    final_output: str\n",
        "    current_agent: str\n",
        "    quality_score: float\n",
        "    retry_count: int\n",
        "    total_tokens: int\n",
        "    total_cost: float\n",
        "\n",
        "def research_agent(state: MultiAgentState) -> MultiAgentState:\n",
        "    \"\"\"Research agent that gathers information\"\"\"\n",
        "    print(\"Research Agent: Gathering information...\")\n",
        "\n",
        "    # Use search tool or LLM for research\n",
        "    if \"TAVILY_API_KEY\" in os.environ:\n",
        "        search_results = search_web.invoke({\"query\": state[\"task\"]})\n",
        "        research_prompt = f\"Based on this search: {search_results}\\n\\nProvide 3 key research points about: {state['task']}\"\n",
        "    else:\n",
        "        research_prompt = f\"Provide 3 key research points about: {state['task']}\"\n",
        "\n",
        "    response = openai_llm.invoke(research_prompt)\n",
        "\n",
        "    # Track tokens\n",
        "    usage = response.usage_metadata\n",
        "    cost = calculate_cost(usage)\n",
        "\n",
        "    return {\n",
        "        **state,\n",
        "        \"research_results\": response.content,\n",
        "        \"current_agent\": \"research_complete\",\n",
        "        \"messages\": state[\"messages\"] + [AIMessage(content=f\"Research completed: {response.content[:100]}...\")],\n",
        "        \"total_tokens\": state[\"total_tokens\"] + usage.get('total_tokens', 0),\n",
        "        \"total_cost\": state[\"total_cost\"] + cost\n",
        "    }\n",
        "\n",
        "def writing_agent(state: MultiAgentState) -> MultiAgentState:\n",
        "    \"\"\"Writing agent that creates content\"\"\"\n",
        "    print(\"Writing Agent: Creating content...\")\n",
        "\n",
        "    writing_prompt = f\"\"\"\n",
        "    Task: {state['task']}\n",
        "    Research: {state['research_results']}\n",
        "\n",
        "    Write a clear, informative article (200-300 words) based on this research.\n",
        "    \"\"\"\n",
        "\n",
        "    response = openai_llm.invoke(writing_prompt)\n",
        "\n",
        "    # Track tokens\n",
        "    usage = response.usage_metadata\n",
        "    cost = calculate_cost(usage)\n",
        "\n",
        "    return {\n",
        "        **state,\n",
        "        \"draft_content\": response.content,\n",
        "        \"current_agent\": \"writing_complete\",\n",
        "        \"messages\": state[\"messages\"] + [AIMessage(content=\"Draft article created\")],\n",
        "        \"total_tokens\": state[\"total_tokens\"] + usage.get('total_tokens', 0),\n",
        "        \"total_cost\": state[\"total_cost\"] + cost\n",
        "    }\n",
        "\n",
        "def quality_agent(state: MultiAgentState) -> MultiAgentState:\n",
        "    \"\"\"Quality agent that evaluates content\"\"\"\n",
        "    print(\"Quality Agent: Evaluating content...\")\n",
        "\n",
        "    evaluation_prompt = f\"\"\"\n",
        "    Evaluate this article on a scale of 1-10:\n",
        "    {state['draft_content']}\n",
        "\n",
        "    Consider: clarity, completeness, structure. Respond with just a number (1-10).\n",
        "    \"\"\"\n",
        "\n",
        "    response = openai_llm.invoke(evaluation_prompt)\n",
        "\n",
        "    try:\n",
        "        score = float(response.content.strip())\n",
        "    except:\n",
        "        score = 7.0  # Default score if parsing fails\n",
        "\n",
        "    # Track tokens\n",
        "    usage = response.usage_metadata\n",
        "    cost = calculate_cost(usage)\n",
        "\n",
        "    if score >= 7.0:\n",
        "        current_agent = \"quality_approved\"\n",
        "        final_output = state[\"draft_content\"]\n",
        "        print(f\"Content approved with score: {score}\")\n",
        "    else:\n",
        "        current_agent = \"quality_revision_needed\"\n",
        "        final_output = \"\"\n",
        "        print(f\"Revision needed, score: {score}\")\n",
        "\n",
        "    return {\n",
        "        **state,\n",
        "        \"quality_score\": score,\n",
        "        \"final_output\": final_output,\n",
        "        \"current_agent\": current_agent,\n",
        "        \"messages\": state[\"messages\"] + [AIMessage(content=f\"Quality score: {score}\")],\n",
        "        \"total_tokens\": state[\"total_tokens\"] + usage.get('total_tokens', 0),\n",
        "        \"total_cost\": state[\"total_cost\"] + cost\n",
        "    }\n",
        "\n",
        "print(\"Multi-agent system defined\")"
      ]
    },
    {
      "cell_type": "code",
      "execution_count": 18,
      "metadata": {
        "id": "multi_agent_router"
      },
      "outputs": [],
      "source": [
        "# Router for multi-agent coordination\n",
        "def agent_router(state: MultiAgentState) -> str:\n",
        "    \"\"\"Route between agents based on current state\"\"\"\n",
        "    current = state[\"current_agent\"]\n",
        "    retry_count = state.get(\"retry_count\", 0)\n",
        "\n",
        "    if current == \"start\":\n",
        "        return \"research_agent\"\n",
        "    elif current == \"research_complete\":\n",
        "        return \"writing_agent\"\n",
        "    elif current == \"writing_complete\":\n",
        "        return \"quality_agent\"\n",
        "    elif current == \"quality_approved\":\n",
        "        return END\n",
        "    elif current == \"quality_revision_needed\":\n",
        "        if retry_count < 2:\n",
        "            return \"writing_agent\"\n",
        "        else:\n",
        "            return END\n",
        "    else:\n",
        "        return END\n",
        "\n",
        "# Build the multi-agent workflow\n",
        "def build_multi_agent_workflow():\n",
        "    workflow = StateGraph(MultiAgentState)\n",
        "\n",
        "    workflow.add_node(\"research_agent\", research_agent)\n",
        "    workflow.add_node(\"writing_agent\", writing_agent)\n",
        "    workflow.add_node(\"quality_agent\", quality_agent)\n",
        "\n",
        "    workflow.add_conditional_edges(\n",
        "        \"research_agent\",\n",
        "        agent_router,\n",
        "        {\n",
        "            \"writing_agent\": \"writing_agent\",\n",
        "            END: END\n",
        "        }\n",
        "    )\n",
        "\n",
        "    workflow.add_conditional_edges(\n",
        "        \"writing_agent\",\n",
        "        agent_router,\n",
        "        {\n",
        "            \"quality_agent\": \"quality_agent\",\n",
        "            END: END\n",
        "        }\n",
        "    )\n",
        "\n",
        "    workflow.add_conditional_edges(\n",
        "        \"quality_agent\",\n",
        "        agent_router,\n",
        "        {\n",
        "            \"writing_agent\": \"writing_agent\",\n",
        "            END: END\n",
        "        }\n",
        "    )\n",
        "\n",
        "    workflow.set_entry_point(\"research_agent\")\n",
        "    return workflow.compile(checkpointer=MemorySaver()) # Add memory here\n",
        "\n",
        "# Test the multi-agent system\n",
        "multi_agent_workflow = build_multi_agent_workflow()"
      ]
    },
    {
      "cell_type": "markdown",
      "source": [
        "Now let's visualize it:"
      ],
      "metadata": {
        "id": "fRdKX5OfxcK-"
      }
    },
    {
      "cell_type": "code",
      "source": [
        "display(Image(multi_agent_workflow.get_graph().draw_mermaid_png()))"
      ],
      "metadata": {
        "colab": {
          "base_uri": "https://localhost:8080/",
          "height": 449
        },
        "id": "OemUhETpxifC",
        "outputId": "681817fe-3d2b-4ba0-9a99-02d043eed801"
      },
      "execution_count": 19,
      "outputs": [
        {
          "output_type": "display_data",
          "data": {
            "image/png": "[encoded data removed]",
            "text/plain": [
              "<IPython.core.display.Image object>"
            ]
          },
          "metadata": {}
        }
      ]
    },
    {
      "cell_type": "code",
      "source": [
        "initial_state = {\n",
        "    \"messages\": [HumanMessage(content=\"Create an article about Python programming\")],\n",
        "    \"task\": \"Python programming fundamentals\",\n",
        "    \"research_results\": \"\",\n",
        "    \"draft_content\": \"\",\n",
        "    \"final_output\": \"\",\n",
        "    \"current_agent\": \"start\",\n",
        "    \"quality_score\": 0.0,\n",
        "    \"retry_count\": 0,\n",
        "    \"total_tokens\": 0,\n",
        "    \"total_cost\": 0.0\n",
        "}\n",
        "\n",
        "multi_agent_config = {\"configurable\": {\"thread_id\": \"lesson_3_thread_01\"}}\n",
        "\n",
        "result = multi_agent_workflow.invoke(initial_state, multi_agent_config)\n",
        "\n",
        "print(f\"\\nWorkflow completed!\")\n",
        "print(f\"Quality score: {result['quality_score']}\")\n",
        "print(f\"Total tokens: {result['total_tokens']}\")\n",
        "print(f\"Total cost: ${result['total_cost']:.6f}\")\n",
        "print(f\"\\nFinal article:\\n{result['final_output']}...\")"
      ],
      "metadata": {
        "id": "cG2gAK-yxbiH",
        "colab": {
          "base_uri": "https://localhost:8080/"
        },
        "outputId": "4417493a-4391-4076-9b30-03a134aae4e0"
      },
      "execution_count": 20,
      "outputs": [
        {
          "output_type": "stream",
          "name": "stdout",
          "text": [
            "Research Agent: Gathering information...\n",
            "Writing Agent: Creating content...\n",
            "Quality Agent: Evaluating content...\n",
            "Content approved with score: 8.0\n",
            "\n",
            "Workflow completed!\n",
            "Quality score: 8.0\n",
            "Total tokens: 2568\n",
            "Total cost: $0.000693\n",
            "\n",
            "Final article:\n",
            "**Understanding Python Programming Fundamentals: A Beginner’s Guide**\n",
            "\n",
            "Python has become one of the most popular programming languages worldwide, largely due to its simplicity and readability. For beginners, grasping the fundamentals of Python is essential to start writing effective and efficient code. Three core areas form the foundation of Python programming: core concepts and syntax, control flow and data structures, and functions with modular programming.\n",
            "\n",
            "At the heart of Python is its clear and intuitive syntax. Python emphasizes readability, allowing programmers to express ideas in fewer lines compared to many other languages. Key concepts to master include variables, which store data values, and data types such as strings (text), numbers (integers and floats), lists (ordered collections), dictionaries (key-value pairs), and tuples (immutable sequences). Understanding how to use operators and handle basic input/output operations also plays an important role in getting comfortable with Python’s syntax.\n",
            "\n",
            "Control flow is the mechanism that directs the execution order of statements. Python uses conditional statements like `if` and `else` to make decisions, and loops such as `for` and `while` to repeat tasks efficiently. Alongside control flow, Python offers powerful built-in data structures which make organizing and manipulating data straightforward. Lists, dictionaries, and tuples are versatile containers that help create dynamic and functional programs.\n",
            "\n",
            "Another crucial aspect of Python programming is the use of functions and modular design. Functions allow developers to encapsulate blocks of code that perform specific tasks, making programs easier to read, debug, and maintain. They promote code reuse, reducing redundancy. Furthermore, Python’s modular programming approach supports importing modules—separate files containing definitions and statements—to extend functionality without rewriting code.\n",
            "\n",
            "Mastering these fundamentals provides a strong programming base for beginners eager to explore Python’s wide range of applications, from web development to data science. With practice, these foundational topics open the door to writing clean, efficient, and scalable Python code....\n"
          ]
        }
      ]
    },
    {
      "cell_type": "markdown",
      "metadata": {
        "id": "error_handling"
      },
      "source": [
        "## Error Handling and Self-Healing\n",
        "\n",
        "LangGraph workflows can recover from errors automatically:"
      ]
    },
    {
      "cell_type": "code",
      "execution_count": 21,
      "metadata": {
        "id": "error_handling_example",
        "colab": {
          "base_uri": "https://localhost:8080/"
        },
        "outputId": "d1bfe693-f17e-437b-8702-a267c3b805dd"
      },
      "outputs": [
        {
          "output_type": "stream",
          "name": "stdout",
          "text": [
            "Attempt 1 of 3\n",
            "Error: Simulated failure on attempt 1\n",
            "Retrying operation...\n",
            "Attempt 2 of 3\n",
            "Operation succeeded!\n",
            "\n",
            "Final result:\n",
            "Success: True\n",
            "Attempts: 2\n",
            "Errors: 1\n",
            "Result: Great to hear that the task was completed successfully! If you need any further assistance or have m...\n"
          ]
        }
      ],
      "source": [
        "# Error handling state\n",
        "class ErrorHandlingState(TypedDict):\n",
        "    task: str\n",
        "    attempts: int\n",
        "    max_attempts: int\n",
        "    errors: List[str]\n",
        "    success: bool\n",
        "    result: str\n",
        "\n",
        "def risky_operation_node(state: ErrorHandlingState) -> ErrorHandlingState:\n",
        "    \"\"\"Simulates an operation that might fail\"\"\"\n",
        "    print(f\"Attempt {state['attempts'] + 1} of {state['max_attempts']}\")\n",
        "\n",
        "    # Simulate random failure\n",
        "    import random\n",
        "    if random.random() < 0.6:  # 60% chance of failure\n",
        "        error_msg = f\"Simulated failure on attempt {state['attempts'] + 1}\"\n",
        "        print(f\"Error: {error_msg}\")\n",
        "\n",
        "        return {\n",
        "            **state,\n",
        "            \"attempts\": state[\"attempts\"] + 1,\n",
        "            \"errors\": state[\"errors\"] + [error_msg],\n",
        "            \"success\": False\n",
        "        }\n",
        "    else:\n",
        "        print(\"Operation succeeded!\")\n",
        "        response = openai_llm.invoke(f\"Task completed successfully: {state['task']}\")\n",
        "\n",
        "        return {\n",
        "            **state,\n",
        "            \"attempts\": state[\"attempts\"] + 1,\n",
        "            \"success\": True,\n",
        "            \"result\": response.content\n",
        "        }\n",
        "\n",
        "def error_recovery_router(state: ErrorHandlingState) -> str:\n",
        "    \"\"\"Decide whether to retry or give up\"\"\"\n",
        "    if state[\"success\"]:\n",
        "        return END\n",
        "    elif state[\"attempts\"] < state[\"max_attempts\"]:\n",
        "        print(\"Retrying operation...\")\n",
        "        return \"risky_operation\"\n",
        "    else:\n",
        "        print(\"Max attempts reached, giving up\")\n",
        "        return END\n",
        "\n",
        "# Build error handling workflow\n",
        "def build_error_handling_workflow():\n",
        "    workflow = StateGraph(ErrorHandlingState)\n",
        "\n",
        "    workflow.add_node(\"risky_operation\", risky_operation_node)\n",
        "\n",
        "    workflow.add_conditional_edges(\n",
        "        \"risky_operation\",\n",
        "        error_recovery_router,\n",
        "        {\n",
        "            \"risky_operation\": \"risky_operation\",\n",
        "            END: END\n",
        "        }\n",
        "    )\n",
        "\n",
        "    workflow.set_entry_point(\"risky_operation\")\n",
        "    return workflow.compile(checkpointer=MemorySaver())\n",
        "\n",
        "# Test error handling\n",
        "error_workflow = build_error_handling_workflow()\n",
        "error_config = {\"configurable\": {\"thread_id\": \"lesson_3_errors\"}}\n",
        "error_state = {\n",
        "    \"task\": \"Process important data\",\n",
        "    \"attempts\": 0,\n",
        "    \"max_attempts\": 3,\n",
        "    \"errors\": [],\n",
        "    \"success\": False,\n",
        "    \"result\": \"\"\n",
        "}\n",
        "\n",
        "error_result = error_workflow.invoke(error_state, error_config)\n",
        "\n",
        "print(f\"\\nFinal result:\")\n",
        "print(f\"Success: {error_result['success']}\")\n",
        "print(f\"Attempts: {error_result['attempts']}\")\n",
        "print(f\"Errors: {len(error_result['errors'])}\")\n",
        "if error_result['success']:\n",
        "    print(f\"Result: {error_result['result'][:100]}...\")"
      ]
    },
    {
      "cell_type": "markdown",
      "metadata": {
        "id": "human_in_loop"
      },
      "source": [
        "## Human-in-the-Loop Workflows\n",
        "\n",
        "LangGraph can pause for human approval using interrupts. In order to use this, you **MUST** have a `checkpointer` configured to use Human in the Loop. Without a checkpointer the graph will be unable to pick up where it left off."
      ]
    },
    {
      "cell_type": "code",
      "execution_count": 22,
      "metadata": {
        "id": "human_loop_example"
      },
      "outputs": [],
      "source": [
        "from langgraph.types import interrupt, Command\n",
        "# Human-in-the-loop example\n",
        "class HumanLoopState(TypedDict):\n",
        "    task: str\n",
        "    proposal: str\n",
        "    human_approved: Optional[bool]\n",
        "    human_feedback: str\n",
        "    final_result: str\n",
        "\n",
        "def generate_proposal_node(state: HumanLoopState) -> HumanLoopState:\n",
        "    \"\"\"Generate a proposal for human review\"\"\"\n",
        "    print(\"Generating proposal for human review...\")\n",
        "\n",
        "    response = openai_llm.invoke(f\"\"\"\n",
        "    Generate a detailed proposal for this task: {state['task']}\n",
        "    Include steps, timeline, and potential risks.\n",
        "    \"\"\")\n",
        "\n",
        "    return {\n",
        "        \"proposal\": response.content\n",
        "    }\n",
        "\n",
        "def human_review_node(state: HumanLoopState) -> HumanLoopState:\n",
        "    \"\"\"Simulate human review (in practice, this would pause for real input)\"\"\"\n",
        "    print(\"Human review required...\")\n",
        "    print(f\"Proposal: {state['proposal'][:400]}...\")\n",
        "    approved = interrupt(\n",
        "        state[\"proposal\"]\n",
        "    )\n",
        "    if approved:\n",
        "        feedback = \"Approved: Proposal looks good, proceed with implementation\"\n",
        "        print(\"Human approved the proposal\")\n",
        "    else:\n",
        "        feedback = \"Rejected: Please revise the timeline and risk assessment\"\n",
        "        print(\"Human rejected the proposal\")\n",
        "\n",
        "    return {\n",
        "        \"human_approved\": approved,\n",
        "        \"human_feedback\": feedback\n",
        "    }\n",
        "\n",
        "def execute_task_node(state: HumanLoopState) -> HumanLoopState:\n",
        "    \"\"\"Execute the approved task\"\"\"\n",
        "    if state[\"human_approved\"]:\n",
        "        print(\"Executing approved task...\")\n",
        "        response = openai_llm.invoke(f\"Execute this approved task: {state['task']}\")\n",
        "        result = f\"Task completed: {response.content}\"\n",
        "    else:\n",
        "        result = f\"Task cancelled: {state['human_feedback']}\"\n",
        "        print(\"Task cancelled due to human rejection\")\n",
        "\n",
        "    return {\n",
        "        \"final_result\": result\n",
        "    }\n",
        "\n",
        "# Build human-in-the-loop workflow\n",
        "def build_human_loop_workflow():\n",
        "    workflow = StateGraph(HumanLoopState)\n",
        "\n",
        "    workflow.add_node(\"generate_proposal\", generate_proposal_node)\n",
        "    workflow.add_node(\"human_review\", human_review_node)\n",
        "    workflow.add_node(\"execute_task\", execute_task_node)\n",
        "\n",
        "    workflow.add_edge(\"generate_proposal\", \"human_review\")\n",
        "    workflow.add_edge(\"human_review\", \"execute_task\")\n",
        "    workflow.add_edge(\"execute_task\", END)\n",
        "\n",
        "    workflow.set_entry_point(\"generate_proposal\")\n",
        "    return workflow.compile(checkpointer=MemorySaver())\n",
        "\n",
        "# Test human-in-the-loop workflow\n",
        "human_loop_workflow = build_human_loop_workflow()\n",
        "\n"
      ]
    },
    {
      "cell_type": "markdown",
      "source": [
        "Visualize it:"
      ],
      "metadata": {
        "id": "QKA9dCPpyHoy"
      }
    },
    {
      "cell_type": "code",
      "source": [
        "display(Image(human_loop_workflow.get_graph().draw_mermaid_png()))"
      ],
      "metadata": {
        "colab": {
          "base_uri": "https://localhost:8080/",
          "height": 449
        },
        "id": "qGt3fd7UyJTG",
        "outputId": "89c7d222-92d7-47e9-aa19-123da7deb3ec"
      },
      "execution_count": 23,
      "outputs": [
        {
          "output_type": "display_data",
          "data": {
            "image/png": "[encoded data removed]",
            "text/plain": [
              "<IPython.core.display.Image object>"
            ]
          },
          "metadata": {}
        }
      ]
    },
    {
      "cell_type": "markdown",
      "source": [
        "Now let's test it:"
      ],
      "metadata": {
        "id": "BahGF2UEyQNd"
      }
    },
    {
      "cell_type": "code",
      "source": [
        "human_state = {\n",
        "    \"task\": \"Implement new user authentication system\",\n",
        "    \"proposal\": \"\",\n",
        "    \"human_approved\": None,\n",
        "    \"human_feedback\": \"\",\n",
        "    \"final_result\": \"\"\n",
        "}\n",
        "hitl_config = {\"configurable\": {\"thread_id\": \"lesson_3_hitl\"}}\n",
        "human_result = human_loop_workflow.invoke(human_state, hitl_config)"
      ],
      "metadata": {
        "id": "3r0_b51DyJar",
        "colab": {
          "base_uri": "https://localhost:8080/"
        },
        "outputId": "ffb453f6-155e-4272-bee1-c55e1e3912c6"
      },
      "execution_count": 24,
      "outputs": [
        {
          "output_type": "stream",
          "name": "stdout",
          "text": [
            "Generating proposal for human review...\n",
            "Human review required...\n",
            "Proposal: Certainly! Below is a detailed proposal for implementing a new user authentication system.\n",
            "\n",
            "---\n",
            "\n",
            "# Proposal: Implementation of New User Authentication System\n",
            "\n",
            "## Objective\n",
            "To design and implement a secure, scalable, and user-friendly authentication system that improves security measures, supports modern authentication standards, and enhances the overall user experience.\n",
            "\n",
            "---\n",
            "\n",
            "## Scope\n",
            "\n",
            "- User regi...\n"
          ]
        }
      ]
    },
    {
      "cell_type": "markdown",
      "source": [
        "Now we (the human) make a decision and supply it to our graph to let the process continue from where it left off:"
      ],
      "metadata": {
        "id": "r6_voQaKlX5V"
      }
    },
    {
      "cell_type": "code",
      "source": [
        "approval_prompt = input(\"Do you approve this proposal? (y/n) \")\n",
        "approval = approval_prompt.lower() == \"y\"\n",
        "human_result = human_loop_workflow.invoke(Command(resume=approval), hitl_config)"
      ],
      "metadata": {
        "id": "RL81UNW8iU7G",
        "colab": {
          "base_uri": "https://localhost:8080/"
        },
        "outputId": "0c5c6d32-0594-479f-e272-b20a5a25216a"
      },
      "execution_count": 25,
      "outputs": [
        {
          "output_type": "stream",
          "name": "stdout",
          "text": [
            "Do you approve this proposal? (y/n) y\n",
            "Human review required...\n",
            "Proposal: Certainly! Below is a detailed proposal for implementing a new user authentication system.\n",
            "\n",
            "---\n",
            "\n",
            "# Proposal: Implementation of New User Authentication System\n",
            "\n",
            "## Objective\n",
            "To design and implement a secure, scalable, and user-friendly authentication system that improves security measures, supports modern authentication standards, and enhances the overall user experience.\n",
            "\n",
            "---\n",
            "\n",
            "## Scope\n",
            "\n",
            "- User regi...\n",
            "Human approved the proposal\n",
            "Executing approved task...\n"
          ]
        }
      ]
    },
    {
      "cell_type": "code",
      "source": [
        "print(f\"\\nWorkflow result:\")\n",
        "print(f\"Approved: {human_result['human_approved']}\")\n",
        "print(f\"Feedback: {human_result['human_feedback']}\")\n",
        "print(f\"Result: {human_result['final_result'][:100]}...\")"
      ],
      "metadata": {
        "id": "y8ETkeT0lN18",
        "colab": {
          "base_uri": "https://localhost:8080/"
        },
        "outputId": "fe3d938b-3883-4c48-8f3c-e9ec6e0148ce"
      },
      "execution_count": 26,
      "outputs": [
        {
          "output_type": "stream",
          "name": "stdout",
          "text": [
            "\n",
            "Workflow result:\n",
            "Approved: True\n",
            "Feedback: Approved: Proposal looks good, proceed with implementation\n",
            "Result: Task completed: Before proceeding, could you please provide more details about the new user authenti...\n"
          ]
        }
      ]
    },
    {
      "cell_type": "markdown",
      "metadata": {
        "id": "production"
      },
      "source": [
        "## Production Considerations\n",
        "\n",
        "### Key Best Practices\n",
        "\n",
        "1. **Error Handling**: Always include retry logic and graceful failures\n",
        "2. **Token Tracking**: Monitor usage and costs across workflow execution  \n",
        "3. **Debugging**: Use LangChain's debugging tools for troubleshooting\n",
        "4. **Memory Management**: Implement proper checkpointing for long workflows\n",
        "5. **Security**: Validate inputs and sanitize outputs\n",
        "6. **Performance**: Use parallel processing where appropriate\n",
        "7. **Monitoring**: Track execution times and success rates\n",
        "\n",
        "### Deployment Patterns\n",
        "\n",
        "- **Stateless Nodes**: Design nodes to be independent when possible\n",
        "- **Checkpoint Storage**: Use persistent storage for production checkpoints\n",
        "- **Rate Limiting**: Implement proper API rate limiting\n",
        "- **Load Balancing**: Distribute workflow execution across instances\n",
        "- **Graceful Degradation**: Handle service failures elegantly"
      ]
    },
    {
      "cell_type": "markdown",
      "metadata": {
        "id": "conclusion"
      },
      "source": [
        "## Summary\n",
        "\n",
        "Today we've covered:\n",
        "\n",
        "- **LangGraph Fundamentals**: Nodes, edges, and state management\n",
        "- **Tool Integration**: Building agents with real capabilities\n",
        "- **Multi-Agent Systems**: Coordinating specialized agents\n",
        "- **Advanced Patterns**: Parallel processing, error handling, human oversight\n",
        "- **Production Practices**: Monitoring, debugging, and optimization\n",
        "\n",
        "### Next Steps\n",
        "\n",
        "1. **Practice**: Build your own multi-agent workflows\n",
        "2. **Experiment**: Try different coordination patterns\n",
        "3. **Optimize**: Focus on performance and cost efficiency\n",
        "4. **Deploy**: Apply production best practices\n",
        "\n",
        "### Resources\n",
        "\n",
        "- [LangGraph Documentation](https://python.langchain.com/docs/langgraph)\n",
        "- [LangChain Community](https://github.com/langchain-ai/langchain)\n",
        "- [Example Workflows](https://github.com/langchain-ai/langgraph/tree/main/docs/docs/how-tos)\n",
        "\n",
        "Happy building with LangGraph!"
      ]
    }
  ],
  "metadata": {
    "kernelspec": {
      "display_name": "Python 3",
      "language": "python",
      "name": "python3"
    },
    "language_info": {
      "codemirror_mode": {
        "name": "ipython",
        "version": 3
      },
      "file_extension": ".py",
      "mimetype": "text/x-python",
      "name": "python",
      "nbconvert_exporter": "python",
      "pygments_lexer": "ipython3",
      "version": "3.11.0"
    },
    "colab": {
      "provenance": [],
      "toc_visible": true
    }
  },
  "nbformat": 4,
  "nbformat_minor": 0
}